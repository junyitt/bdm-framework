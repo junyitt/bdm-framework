{
 "cells": [
  {
   "cell_type": "code",
   "execution_count": 58,
   "metadata": {},
   "outputs": [],
   "source": [
    "import platform\n",
    "import socket\n",
    "from rdflib import Graph, Literal, BNode, Namespace, RDF, URIRef\n",
    "from rdflib.namespace import DC, FOAF\n",
    "\n",
    "# def clean_foaf(x):\n",
    "#     try:\n",
    "#         return eval(\"FOAF.{}\".format(str(x).replace(\"-\", \"_\").replace(\".\", \"_\").replace(\" \", \"_\")))\n",
    "#     except:\n",
    "#         return eval(\"FOAF._{}\".format(str(x).replace(\"-\", \"_\").replace(\".\", \"_\").replace(\" \", \"_\")))\n",
    "\n",
    "g = Graph()\n",
    "# example of creating triples for a specific machine\n",
    "machine1 = BNode()\n",
    "\n",
    "# Data Extraction and Data Cleansing\n",
    "cpu_info = cpuinfo.get_cpu_info()\n",
    "system = platform.system()\n",
    "os_version = platform.platform().split(\"-\")[1]\n",
    "update_version = platform.platform().split(\"-\")[2].replace(\".\", \"_\")\n",
    "proc_model = platform.processor()\n",
    "\n",
    "# Add triples to graph\n",
    "g.add( (machine1, RDF.type, FOAF.machine) )\n",
    "g.add( (machine1, FOAF.name, Literal(socket.gethostname()) ))\n",
    "g.add( (machine1, FOAF.ossystem, Literal(system) ))\n",
    "g.add( (machine1, FOAF.osversion, Literal(os_version) ))\n",
    "g.add( (machine1, FOAF.updateversion, Literal(update_version) ))\n",
    "g.add( (machine1, FOAF.processor, Literal(proc_model) ))\n",
    "g.add( (machine1, FOAF.architecture, Literal(cpu_info[\"arch\"]) ))\n",
    "g.add( (machine1, FOAF.bits, Literal(cpu_info[\"bits\"]) ))\n",
    "g.add( (machine1, FOAF.vendor, Literal(cpu_info[\"vendor_id\"]) ))\n",
    "g.add( (machine1, FOAF.brand, Literal(cpu_info[\"brand\"]) ))\n",
    "\n",
    "\n",
    "\n"
   ]
  },
  {
   "cell_type": "code",
   "execution_count": 59,
   "metadata": {},
   "outputs": [
    {
     "name": "stdout",
     "output_type": "stream",
     "text": [
      "Na1536bbf90ee408eb4c376843c819b30 http://xmlns.com/foaf/0.1/osversion 10\n",
      "Na1536bbf90ee408eb4c376843c819b30 http://xmlns.com/foaf/0.1/architecture X86_64\n",
      "Na1536bbf90ee408eb4c376843c819b30 http://xmlns.com/foaf/0.1/ossystem Windows\n",
      "Na1536bbf90ee408eb4c376843c819b30 http://xmlns.com/foaf/0.1/bits 64\n",
      "Na1536bbf90ee408eb4c376843c819b30 http://xmlns.com/foaf/0.1/vendor GenuineIntel\n",
      "Na1536bbf90ee408eb4c376843c819b30 http://xmlns.com/foaf/0.1/brand Intel(R) Core(TM) i5-7400 CPU @ 3.00GHz\n",
      "Na1536bbf90ee408eb4c376843c819b30 http://xmlns.com/foaf/0.1/processor Intel64 Family 6 Model 158 Stepping 9, GenuineIntel\n",
      "Na1536bbf90ee408eb4c376843c819b30 http://www.w3.org/1999/02/22-rdf-syntax-ns#type http://xmlns.com/foaf/0.1/machine\n",
      "Na1536bbf90ee408eb4c376843c819b30 http://xmlns.com/foaf/0.1/name DESKTOP-64GQI65\n",
      "Na1536bbf90ee408eb4c376843c819b30 http://xmlns.com/foaf/0.1/updateversion 10_0_18362\n"
     ]
    }
   ],
   "source": [
    "for s,p,o in g:\n",
    "    print(s,p,o)"
   ]
  }
 ],
 "metadata": {
  "kernelspec": {
   "display_name": "Python 3",
   "language": "python",
   "name": "python3"
  },
  "language_info": {
   "codemirror_mode": {
    "name": "ipython",
    "version": 3
   },
   "file_extension": ".py",
   "mimetype": "text/x-python",
   "name": "python",
   "nbconvert_exporter": "python",
   "pygments_lexer": "ipython3",
   "version": "3.7.4"
  }
 },
 "nbformat": 4,
 "nbformat_minor": 4
}
