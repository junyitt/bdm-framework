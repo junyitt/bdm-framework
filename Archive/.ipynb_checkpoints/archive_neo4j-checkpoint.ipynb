{
 "cells": [
  {
   "cell_type": "code",
   "execution_count": 211,
   "metadata": {},
   "outputs": [
    {
     "name": "stdout",
     "output_type": "stream",
     "text": [
      "Wall time: 3.97 s\n"
     ]
    }
   ],
   "source": [
    "%%time \n",
    "\n",
    "from py2neo import Graph, Node, Relationship\n",
    "import pandas as pd\n",
    "\n",
    "g = Graph(\"http://localhost:7474/db/data/\", user=\"neo4j\", password=\"test\")\n",
    "\n",
    "# Read the microsoft-malware-prediction training dataset (sample only the first 40000 rows)\n",
    "df = pd.read_csv(\"microsoft-malware-prediction/train.csv\", nrows = 40000)\n",
    "df = df.fillna(\"NA\")\n",
    "df[\"OSIdentifier\"] = df[\"Platform\"].map(str) + \"_\" + df[\"OsVer\"].map(str) + \"_\" + df[\"OsBuild\"].map(str)\n",
    "\n",
    "# Create the main machine tables and other useful tables (to model relationships)\n",
    "## create machine table/csv\n",
    "machine_df = df[[\"MachineIdentifier\", \"Processor\", \"Census_ProcessorManufacturerIdentifier\", \"Census_ProcessorModelIdentifier\", \"Census_MDC2FormFactor\", \"HasDetections\", \"Firewall\", \"OSIdentifier\", \"CountryIdentifier\", \"OrganizationIdentifier\"]]\n",
    "machine_df.to_csv(\"machine.csv\", index=False)\n",
    "\n",
    "# create country table/csv\n",
    "country_df = pd.DataFrame()\n",
    "country_df[\"CountryIdentifier\"] = df[\"CountryIdentifier\"].unique()\n",
    "country_df.to_csv(\"country.csv\", index=False)\n",
    "\n",
    "# create organization table/csv\n",
    "org_df = pd.DataFrame()\n",
    "org_df[\"OrganizationIdentifier\"] = df[\"OrganizationIdentifier\"].unique()\n",
    "org_df.to_csv(\"organization.csv\", index=False)\n",
    "\n",
    "# create os table/csv\n",
    "os_df = pd.DataFrame()\n",
    "os_df[\"OSIdentifier\"] = df[\"OSIdentifier\"].unique()\n",
    "os_df = pd.merge(os_df, df[[\"Platform\", \"OsVer\", \"OsBuild\", \"OSIdentifier\"]], left_on = \"OSIdentifier\", right_on = \"OSIdentifier\", how = \"left\").groupby(\"OSIdentifier\").first().reset_index()\n",
    "os_df.to_csv(\"os.csv\", index=False)\n",
    "\n",
    "# create firewall table/csv\n",
    "firewall_df = pd.DataFrame()\n",
    "firewall_df[\"Firewall\"] = df[\"Firewall\"].unique()\n",
    "firewall_df.to_csv(\"firewall.csv\", index=False)\n",
    "\n",
    "# create MalwareDetected table/csv\n",
    "machine_type_df = pd.DataFrame()\n",
    "machine_type_df[\"machine_type\"] = df[\"Census_MDC2FormFactor\"].unique()\n",
    "machine_type_df.to_csv(\"machine_type.csv\", index=False)\n",
    "\n",
    "# create MalwareDetected table/csv\n",
    "malware_df = pd.DataFrame()\n",
    "malware_df[\"HasDetections\"] = df[\"HasDetections\"].unique()\n",
    "malware_df.to_csv(\"malware.csv\", index=False)\n",
    "\n",
    "# output the sampled 40k dataset\n",
    "# df.to_csv(\"train_40000.csv\", index=False)"
   ]
  },
  {
   "cell_type": "code",
   "execution_count": 177,
   "metadata": {},
   "outputs": [
    {
     "data": {
      "text/plain": [
       "array(['windows10_10.0.0.0_17134', 'windows10_10.0.0.0_14393',\n",
       "       'windows10_10.0.0.0_16299', 'windows7_6.1.1.0_7601',\n",
       "       'windows8_6.3.0.0_9600', 'windows10_10.0.0.0_10240',\n",
       "       'windows10_10.0.0.0_15063', 'windows10_10.0.0.0_10586',\n",
       "       'windows2016_10.0.0.0_14393', 'windows10_10.0.0.0_17744',\n",
       "       'windows10_10.0.0.0_17692'], dtype=object)"
      ]
     },
     "execution_count": 177,
     "metadata": {},
     "output_type": "execute_result"
    }
   ],
   "source": [
    "df[\"os_id\"].unique()"
   ]
  },
  {
   "cell_type": "code",
   "execution_count": 134,
   "metadata": {},
   "outputs": [
    {
     "name": "stdout",
     "output_type": "stream",
     "text": [
      "Done\n"
     ]
    }
   ],
   "source": [
    "%%time\n",
    "\n",
    "# df[\"LocationId\"] = df[\"GeoNameIdentifier\"].map(str) + df[\"OrganizationIdentifier\"].map(str) + df[\"OrganizationIdentifier\"].map(str)\n",
    "# df[\"LocationId\"].duplicated()\n",
    "\n",
    "for i,j in df.iterrows():\n",
    "    machine_id = j[\"MachineIdentifier\"]\n",
    "    processor_architecture = j[\"Processor\"]\n",
    "    processor_manufacturer = j[\"Census_ProcessorManufacturerIdentifier\"]\n",
    "    processor_model = j[\"Census_ProcessorModelIdentifier\"]\n",
    "    processor_core_count = j[\"Census_ProcessorCoreCount\"]\n",
    "    \n",
    "    country_id = j[\"CountryIdentifier\"]\n",
    "    city_id = j[\"CityIdentifier\"]\n",
    "    organization_id = j[\"OrganizationIdentifier\"]\n",
    "    geo_name_id = j[\"GeoNameIdentifier\"]\n",
    "    \n",
    "    \n",
    "    platform = j[\"Platform\"]\n",
    "    OSVer = j[\"OsVer\"]\n",
    "    OSBuild = j[\"OsBuild\"]    \n",
    "    firewall = j[\"Firewall\"]\n",
    "    machine_type = j[\"Census_MDC2FormFactor\"]\n",
    "    protected = j[\"IsProtected\"]\n",
    "    genuine = j[\"Census_GenuineStateName\"]\n",
    "    malware_detected = j[\"HasDetections\"]\n",
    "    \n",
    "    machine_node = Node(\"Machine\", name=machine_id)\n",
    "    country_node = Node(\"Country\", name=country_id)\n",
    "    city_node = Node(\"City\", name=city_id)\n",
    "    organization_node = Node(\"Organization\", name=organization_id)\n",
    "    geo_node = Node(\"Geo\", name=geo_name_id)\n",
    "    platform_node = Node(\"Platform\", name=platform)\n",
    "    os_version_node = Node(\"OSVersion\", name=OSVer)\n",
    "    os_build_node = Node(\"OSBuild\", name=OSBuild)\n",
    "    firewall_node = Node(\"Firewall\", name=firewall)\n",
    "    machinetype_node = Node(\"MachineType\", name=machine_type)\n",
    "    protected_node = Node(\"Protected\", name=protected)\n",
    "    genuine_node = Node(\"Genuine\", name=genuine)\n",
    "    malware_detected_node = Node(\"MalwareDetected\", name=malware_detected)\n",
    "    \n",
    "    country_at = Relationship(machine_node, \"COUNTRY_AT\", country_node)\n",
    "    city_at = Relationship(machine_node, \"CITY_AT\", city_node)\n",
    "    org_at = Relationship(machine_node, \"ORG_AT\", organization_node)\n",
    "    geo_at = Relationship(machine_node, \"GEO_AT\", geo_node)\n",
    "    has_platform = Relationship(machine_node, \"HAS_PLATFORM\", platform_node)\n",
    "    has_osversion = Relationship(machine_node, \"HAS_OSVERSION\", os_version_node)\n",
    "    has_osbuild = Relationship(machine_node, \"HAS_OSBUILD\", os_build_node)\n",
    "    has_firewall_enabled = Relationship(machine_node, \"HAS_FIREWALL_ENABLED\", firewall_node)\n",
    "    machinetype_is = Relationship(machine_node, \"MACHINE_TYPE_IS\", machinetype_node)\n",
    "    is_protected = Relationship(machine_node, \"IS_PROTECTED\", protected_node)\n",
    "    is_genuine = Relationship(machine_node, \"IS_GENUINE\", genuine_node)\n",
    "    has_malware = Relationship(machine_node, \"HAS_MALWARE\", malware_detected_node)\n",
    "    \n",
    "    tx = g.begin()\n",
    "    \n",
    "    tx.create(machine_node)\n",
    "    tx.create(country_node)\n",
    "    tx.create(city_node)\n",
    "    tx.create(organization_node)\n",
    "    tx.create(geo_node)\n",
    "    tx.create(platform_node)\n",
    "    tx.create(os_version_node)\n",
    "    tx.create(os_build_node)\n",
    "    tx.create(firewall_node)\n",
    "    tx.create(machinetype_node)\n",
    "    tx.create(protected_node)\n",
    "    tx.create(genuine_node)\n",
    "    tx.create(malware_detected_node)\n",
    "    \n",
    "    tx.create(country_at)\n",
    "    tx.create(city_at)\n",
    "    tx.create(org_at)\n",
    "    tx.create(geo_at)\n",
    "    tx.create(has_platform)\n",
    "    tx.create(has_osversion)\n",
    "    tx.create(has_osbuild)\n",
    "    tx.create(has_firewall_enabled)\n",
    "    tx.create(machinetype_is)\n",
    "    tx.create(is_protected)\n",
    "    tx.create(is_genuine)\n",
    "    tx.create(has_malware)\n",
    "    \n",
    "    tx.commit() \n",
    "    tx.finished()\n",
    "    \n",
    "print(\"Done\")"
   ]
  },
  {
   "cell_type": "code",
   "execution_count": 115,
   "metadata": {},
   "outputs": [
    {
     "data": {
      "text/plain": [
       "Index(['Unnamed: 0', 'MachineIdentifier', 'ProductName', 'EngineVersion',\n",
       "       'AppVersion', 'AvSigVersion', 'IsBeta', 'RtpStateBitfield',\n",
       "       'IsSxsPassiveMode', 'DefaultBrowsersIdentifier',\n",
       "       'AVProductStatesIdentifier', 'AVProductsInstalled', 'AVProductsEnabled',\n",
       "       'HasTpm', 'CountryIdentifier', 'CityIdentifier',\n",
       "       'OrganizationIdentifier', 'GeoNameIdentifier',\n",
       "       'LocaleEnglishNameIdentifier', 'Platform', 'Processor', 'OsVer',\n",
       "       'OsBuild', 'OsSuite', 'OsPlatformSubRelease', 'OsBuildLab',\n",
       "       'SkuEdition', 'IsProtected', 'AutoSampleOptIn', 'PuaMode', 'SMode',\n",
       "       'IeVerIdentifier', 'SmartScreen', 'Firewall', 'UacLuaenable',\n",
       "       'Census_MDC2FormFactor', 'Census_DeviceFamily',\n",
       "       'Census_OEMNameIdentifier', 'Census_OEMModelIdentifier',\n",
       "       'Census_ProcessorCoreCount', 'Census_ProcessorManufacturerIdentifier',\n",
       "       'Census_ProcessorModelIdentifier', 'Census_ProcessorClass',\n",
       "       'Census_PrimaryDiskTotalCapacity', 'Census_PrimaryDiskTypeName',\n",
       "       'Census_SystemVolumeTotalCapacity', 'Census_HasOpticalDiskDrive',\n",
       "       'Census_TotalPhysicalRAM', 'Census_ChassisTypeName',\n",
       "       'Census_InternalPrimaryDiagonalDisplaySizeInInches',\n",
       "       'Census_InternalPrimaryDisplayResolutionHorizontal',\n",
       "       'Census_InternalPrimaryDisplayResolutionVertical',\n",
       "       'Census_PowerPlatformRoleName', 'Census_InternalBatteryType',\n",
       "       'Census_InternalBatteryNumberOfCharges', 'Census_OSVersion',\n",
       "       'Census_OSArchitecture', 'Census_OSBranch', 'Census_OSBuildNumber',\n",
       "       'Census_OSBuildRevision', 'Census_OSEdition', 'Census_OSSkuName',\n",
       "       'Census_OSInstallTypeName', 'Census_OSInstallLanguageIdentifier',\n",
       "       'Census_OSUILocaleIdentifier', 'Census_OSWUAutoUpdateOptionsName',\n",
       "       'Census_IsPortableOperatingSystem', 'Census_GenuineStateName',\n",
       "       'Census_ActivationChannel', 'Census_IsFlightingInternal',\n",
       "       'Census_IsFlightsDisabled', 'Census_FlightRing',\n",
       "       'Census_ThresholdOptIn', 'Census_FirmwareManufacturerIdentifier',\n",
       "       'Census_FirmwareVersionIdentifier', 'Census_IsSecureBootEnabled',\n",
       "       'Census_IsWIMBootEnabled', 'Census_IsVirtualDevice',\n",
       "       'Census_IsTouchEnabled', 'Census_IsPenCapable',\n",
       "       'Census_IsAlwaysOnAlwaysConnectedCapable', 'Wdft_IsGamer',\n",
       "       'Wdft_RegionIdentifier', 'HasDetections'],\n",
       "      dtype='object')"
      ]
     },
     "execution_count": 115,
     "metadata": {},
     "output_type": "execute_result"
    }
   ],
   "source": [
    "df.columns"
   ]
  },
  {
   "cell_type": "code",
   "execution_count": null,
   "metadata": {},
   "outputs": [],
   "source": [
    "\n",
    "\n",
    "# tx = g.begin()\n",
    "# a = Node(\"Person\", name=\"Alice\")\n",
    "# tx.create(a)\n",
    "# b = Node(\"Person\", name=\"Bob\")\n",
    "# ab = Relationship(a, \"KNOWS\", b)\n",
    "# tx.create(ab)\n",
    "# tx.commit() \n",
    "# g.exists(ab)\n",
    "\n",
    "\n",
    "tx = g.begin()\n",
    "a = Node(\"MachineID\", name=str(machine_id))\n",
    "\n",
    "tx.create(a)\n",
    "b = Node(\"Person\", name=\"DEF\")\n",
    "ab = Relationship(a, \"KNOWS\", b)\n",
    "tx.create(ab)\n",
    "tx.commit() \n",
    "tx.finished()\n",
    "\n",
    "g.exists(ab)"
   ]
  },
  {
   "cell_type": "code",
   "execution_count": 25,
   "metadata": {},
   "outputs": [],
   "source": [
    "k = g.nodes.match(\"Alice\").limit(1)"
   ]
  },
  {
   "cell_type": "code",
   "execution_count": 35,
   "metadata": {},
   "outputs": [
    {
     "data": {
      "text/plain": [
       "2"
      ]
     },
     "execution_count": 35,
     "metadata": {},
     "output_type": "execute_result"
    }
   ],
   "source": [
    "len(g.nodes.match(\"Person\", name=\"Alice\"))"
   ]
  },
  {
   "cell_type": "code",
   "execution_count": 42,
   "metadata": {},
   "outputs": [
    {
     "data": {
      "text/plain": [
       "(_0:Person {name: 'Alice'})"
      ]
     },
     "execution_count": 42,
     "metadata": {},
     "output_type": "execute_result"
    }
   ],
   "source": [
    "g.nodes.match(\"Person\", name=\"Alice\").first()\n",
    "\n"
   ]
  },
  {
   "cell_type": "code",
   "execution_count": null,
   "metadata": {},
   "outputs": [],
   "source": [
    "g.match()"
   ]
  },
  {
   "cell_type": "code",
   "execution_count": 65,
   "metadata": {},
   "outputs": [],
   "source": [
    "k = g.nodes.match(\"Person\", name=\"Alice\").skip(1).first()\n"
   ]
  },
  {
   "cell_type": "code",
   "execution_count": 33,
   "metadata": {},
   "outputs": [],
   "source": [
    "k = g.nodes.match(\"Person\", name=\"Alice\")"
   ]
  },
  {
   "cell_type": "code",
   "execution_count": 34,
   "metadata": {},
   "outputs": [
    {
     "ename": "AttributeError",
     "evalue": "'NodeMatch' object has no attribute 'merge'",
     "output_type": "error",
     "traceback": [
      "\u001b[1;31m---------------------------------------------------------------------------\u001b[0m",
      "\u001b[1;31mAttributeError\u001b[0m                            Traceback (most recent call last)",
      "\u001b[1;32m<ipython-input-34-359ad387e11a>\u001b[0m in \u001b[0;36m<module>\u001b[1;34m\u001b[0m\n\u001b[1;32m----> 1\u001b[1;33m \u001b[0mk\u001b[0m\u001b[1;33m.\u001b[0m\u001b[0mmerge\u001b[0m\u001b[1;33m(\u001b[0m\u001b[1;33m)\u001b[0m\u001b[1;33m\u001b[0m\u001b[1;33m\u001b[0m\u001b[0m\n\u001b[0m",
      "\u001b[1;31mAttributeError\u001b[0m: 'NodeMatch' object has no attribute 'merge'"
     ]
    }
   ],
   "source": [
    "k.merge()"
   ]
  },
  {
   "cell_type": "code",
   "execution_count": 13,
   "metadata": {},
   "outputs": [
    {
     "data": {
      "text/plain": [
       "False"
      ]
     },
     "execution_count": 13,
     "metadata": {},
     "output_type": "execute_result"
    }
   ],
   "source": [
    "g.exists(a2)"
   ]
  },
  {
   "cell_type": "code",
   "execution_count": 12,
   "metadata": {},
   "outputs": [],
   "source": [
    "a2 = Node(\"Person\", name=\"Alice\")"
   ]
  },
  {
   "cell_type": "code",
   "execution_count": 3,
   "metadata": {},
   "outputs": [],
   "source": []
  },
  {
   "cell_type": "code",
   "execution_count": 78,
   "metadata": {},
   "outputs": [
    {
     "data": {
      "text/plain": [
       "True"
      ]
     },
     "execution_count": 78,
     "metadata": {},
     "output_type": "execute_result"
    }
   ],
   "source": [
    "tx = g.begin()\n",
    "a = Node(\"Person\", name=\"ABC\")\n",
    "tx.create(a)\n",
    "b = Node(\"Person\", name=\"DEF\")\n",
    "ab = Relationship(a, \"KNOWS\", b)\n",
    "tx.create(ab)\n",
    "tx.commit() \n",
    "tx.finished()\n",
    "\n",
    "g.exists(ab)"
   ]
  },
  {
   "cell_type": "code",
   "execution_count": 71,
   "metadata": {},
   "outputs": [
    {
     "data": {
      "text/plain": [
       "True"
      ]
     },
     "execution_count": 71,
     "metadata": {},
     "output_type": "execute_result"
    }
   ],
   "source": [
    "\n"
   ]
  },
  {
   "cell_type": "code",
   "execution_count": 56,
   "metadata": {},
   "outputs": [],
   "source": [
    "# list(g.relationships.match(\"KNOWS\").limit(3))"
   ]
  },
  {
   "cell_type": "code",
   "execution_count": 79,
   "metadata": {},
   "outputs": [
    {
     "data": {
      "text/html": [
       "<table><tr><th>person.name</th></tr><tr><td style=\"text-align:left\">Alice</td></tr><tr><td style=\"text-align:left\">Alice</td></tr></table>"
      ],
      "text/plain": [
       " person.name \n",
       "-------------\n",
       " Alice       \n",
       " Alice       "
      ]
     },
     "execution_count": 79,
     "metadata": {},
     "output_type": "execute_result"
    }
   ],
   "source": [
    "g.run(\"MATCH (person:Person {name: 'Alice'}) RETURN person.name\").to_table()"
   ]
  },
  {
   "cell_type": "code",
   "execution_count": 80,
   "metadata": {},
   "outputs": [
    {
     "data": {
      "text/html": [
       "<table><tr><th>person.name</th><th>r</th><th>d.name</th></tr><tr><td style=\"text-align:left\">Alice</td><td style=\"text-align:left\">(Alice)-[:KNOWS {}]-&gt;(Bob)</td><td style=\"text-align:left\">Bob</td></tr><tr><td style=\"text-align:left\">ABC</td><td style=\"text-align:left\">(ABC)-[:KNOWS {}]-&gt;(DEF)</td><td style=\"text-align:left\">DEF</td></tr><tr><td style=\"text-align:left\">Alice</td><td style=\"text-align:left\">(Alice)-[:KNOWS {}]-&gt;(Bob)</td><td style=\"text-align:left\">Bob</td></tr><tr><td style=\"text-align:left\">ABC</td><td style=\"text-align:left\">(ABC)-[:KNOWS {}]-&gt;(DEF)</td><td style=\"text-align:left\">DEF</td></tr><tr><td style=\"text-align:left\">ABC</td><td style=\"text-align:left\">(ABC)-[:KNOWS {}]-&gt;(DEF)</td><td style=\"text-align:left\">DEF</td></tr></table>"
      ],
      "text/plain": [
       " person.name | r                          | d.name \n",
       "-------------|----------------------------|--------\n",
       " Alice       | (Alice)-[:KNOWS {}]->(Bob) | Bob    \n",
       " ABC         | (ABC)-[:KNOWS {}]->(DEF)   | DEF    \n",
       " Alice       | (Alice)-[:KNOWS {}]->(Bob) | Bob    \n",
       " ABC         | (ABC)-[:KNOWS {}]->(DEF)   | DEF    \n",
       " ABC         | (ABC)-[:KNOWS {}]->(DEF)   | DEF    "
      ]
     },
     "execution_count": 80,
     "metadata": {},
     "output_type": "execute_result"
    }
   ],
   "source": [
    "g.run(\"MATCH (person:Person)-[r:KNOWS]->(d) WHERE person.name='ABC' RETURN person.name, r, d.name\").to_table()\n",
    "\n",
    "g.run(\"MATCH (person:Person)-[r:KNOWS]->(d)  RETURN person.name, r, d.name\").to_table()"
   ]
  },
  {
   "cell_type": "code",
   "execution_count": 11,
   "metadata": {},
   "outputs": [
    {
     "data": {
      "text/html": [
       "<table></table>"
      ],
      "text/plain": []
     },
     "execution_count": 11,
     "metadata": {},
     "output_type": "execute_result"
    }
   ],
   "source": [
    "# g.run(\"[r:KNOWS] RETURN r\")\n",
    "q =g.run('MATCH (cloudAtlas {title: \"Cloud Atlas\"})<-[:DIRECTED]-(directors) RETURN directors.name')\n",
    "q.to_table()"
   ]
  },
  {
   "cell_type": "code",
   "execution_count": null,
   "metadata": {},
   "outputs": [],
   "source": [
    "g.run(\"MATCH (p) RETURN p\").to_table()"
   ]
  },
  {
   "cell_type": "code",
   "execution_count": 73,
   "metadata": {},
   "outputs": [
    {
     "data": {
      "text/html": [
       "<table></table>"
      ],
      "text/plain": []
     },
     "execution_count": 73,
     "metadata": {},
     "output_type": "execute_result"
    }
   ],
   "source": [
    "g.run(\"MATCH (p:Person)-[:KNOWS]->(p:Person) RETURN p\").to_table()"
   ]
  },
  {
   "cell_type": "code",
   "execution_count": 65,
   "metadata": {},
   "outputs": [],
   "source": [
    "g.run(\"MATCH (person:Person {name: 'Alice'}) RETURN person.name\").to_table()"
   ]
  },
  {
   "cell_type": "code",
   "execution_count": 19,
   "metadata": {},
   "outputs": [
    {
     "data": {
      "text/html": [
       "<table><tr><th>a.name</th><th>a.born</th></tr><tr><td style=\"text-align:left\">Keanu Reeves</td><td style=\"text-align:right\">1964</td></tr><tr><td style=\"text-align:left\">Carrie-Anne Moss</td><td style=\"text-align:right\">1967</td></tr><tr><td style=\"text-align:left\">Laurence Fishburne</td><td style=\"text-align:right\">1961</td></tr><tr><td style=\"text-align:left\">Hugo Weaving</td><td style=\"text-align:right\">1960</td></tr><tr><td style=\"text-align:left\">Lilly Wachowski</td><td style=\"text-align:right\">1967</td></tr></table>"
      ],
      "text/plain": [
       " a.name             | a.born \n",
       "--------------------|--------\n",
       " Keanu Reeves       |   1964 \n",
       " Carrie-Anne Moss   |   1967 \n",
       " Laurence Fishburne |   1961 \n",
       " Hugo Weaving       |   1960 \n",
       " Lilly Wachowski    |   1967 "
      ]
     },
     "execution_count": 19,
     "metadata": {},
     "output_type": "execute_result"
    }
   ],
   "source": [
    "graph.run(\"MATCH (a:Person) RETURN a.name, a.born LIMIT 5\").to_table()"
   ]
  },
  {
   "cell_type": "code",
   "execution_count": 14,
   "metadata": {},
   "outputs": [
    {
     "ename": "NameError",
     "evalue": "name 'graph' is not defined",
     "output_type": "error",
     "traceback": [
      "\u001b[1;31m---------------------------------------------------------------------------\u001b[0m",
      "\u001b[1;31mNameError\u001b[0m                                 Traceback (most recent call last)",
      "\u001b[1;32m<ipython-input-14-c74a123428dc>\u001b[0m in \u001b[0;36m<module>\u001b[1;34m\u001b[0m\n\u001b[1;32m----> 1\u001b[1;33m \u001b[0mgraph\u001b[0m\u001b[1;33m.\u001b[0m\u001b[0mevaluate\u001b[0m\u001b[1;33m(\u001b[0m\u001b[1;34m\"MATCH (a:Person) RETURN count(a)\"\u001b[0m\u001b[1;33m)\u001b[0m\u001b[1;33m\u001b[0m\u001b[1;33m\u001b[0m\u001b[0m\n\u001b[0m",
      "\u001b[1;31mNameError\u001b[0m: name 'graph' is not defined"
     ]
    }
   ],
   "source": [
    "graph.evaluate(\"MATCH (a:Person) RETURN count(a)\")"
   ]
  },
  {
   "cell_type": "code",
   "execution_count": null,
   "metadata": {},
   "outputs": [],
   "source": []
  }
 ],
 "metadata": {
  "kernelspec": {
   "display_name": "Python 3",
   "language": "python",
   "name": "python3"
  },
  "language_info": {
   "codemirror_mode": {
    "name": "ipython",
    "version": 3
   },
   "file_extension": ".py",
   "mimetype": "text/x-python",
   "name": "python",
   "nbconvert_exporter": "python",
   "pygments_lexer": "ipython3",
   "version": "3.7.4"
  }
 },
 "nbformat": 4,
 "nbformat_minor": 4
}
