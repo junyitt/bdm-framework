{
 "cells": [
  {
   "cell_type": "code",
   "execution_count": 7,
   "metadata": {},
   "outputs": [
    {
     "data": {
      "text/plain": [
       "True"
      ]
     },
     "execution_count": 7,
     "metadata": {},
     "output_type": "execute_result"
    }
   ],
   "source": [
    "from py2neo import Graph, Node, Relationship\n",
    "\n",
    "g = Graph(\"http://localhost:7474/db/data/\", user=\"neo4j\", password=\"test\")\n",
    "\n",
    "tx = g.begin()\n",
    "a = Node(\"Person\", name=\"Alice\")\n",
    "tx.create(a)\n",
    "b = Node(\"Person\", name=\"Bob\")\n",
    "ab = Relationship(a, \"KNOWS\", b)\n",
    "tx.create(ab)\n",
    "tx.commit() \n",
    "g.exists(ab)\n"
   ]
  },
  {
   "cell_type": "code",
   "execution_count": 8,
   "metadata": {},
   "outputs": [
    {
     "data": {
      "text/plain": [
       "True"
      ]
     },
     "execution_count": 8,
     "metadata": {},
     "output_type": "execute_result"
    }
   ],
   "source": [
    "tx = g.begin()\n",
    "a = Node(\"Person\", name=\"ABC\")\n",
    "tx.create(a)\n",
    "b = Node(\"Person\", name=\"DEF\")\n",
    "ab = Relationship(a, \"KNOWS\", b)\n",
    "tx.create(ab)\n",
    "tx.commit() \n",
    "g.exists(ab)"
   ]
  },
  {
   "cell_type": "code",
   "execution_count": 56,
   "metadata": {},
   "outputs": [],
   "source": [
    "# list(g.relationships.match(\"KNOWS\").limit(3))"
   ]
  },
  {
   "cell_type": "code",
   "execution_count": 13,
   "metadata": {},
   "outputs": [
    {
     "data": {
      "text/html": [
       "<table><tr><th>person.name</th></tr><tr><td style=\"text-align:left\">Alice</td></tr></table>"
      ],
      "text/plain": [
       " person.name \n",
       "-------------\n",
       " Alice       "
      ]
     },
     "execution_count": 13,
     "metadata": {},
     "output_type": "execute_result"
    }
   ],
   "source": [
    "g.run(\"MATCH (person:Person {name: 'Alice'}) RETURN person.name\").to_table()"
   ]
  },
  {
   "cell_type": "code",
   "execution_count": 12,
   "metadata": {},
   "outputs": [
    {
     "data": {
      "text/html": [
       "<table><tr><th>person.name</th><th>r</th><th>d.name</th></tr><tr><td style=\"text-align:left\">Alice</td><td style=\"text-align:left\">(Alice)-[:KNOWS {}]-&gt;(Bob)</td><td style=\"text-align:left\">Bob</td></tr><tr><td style=\"text-align:left\">ABC</td><td style=\"text-align:left\">(ABC)-[:KNOWS {}]-&gt;(DEF)</td><td style=\"text-align:left\">DEF</td></tr></table>"
      ],
      "text/plain": [
       " person.name | r                          | d.name \n",
       "-------------|----------------------------|--------\n",
       " Alice       | (Alice)-[:KNOWS {}]->(Bob) | Bob    \n",
       " ABC         | (ABC)-[:KNOWS {}]->(DEF)   | DEF    "
      ]
     },
     "execution_count": 12,
     "metadata": {},
     "output_type": "execute_result"
    }
   ],
   "source": [
    "g.run(\"MATCH (person:Person)-[r:KNOWS]->(d) WHERE person.name='ABC' RETURN person.name, r, d.name\").to_table()\n",
    "\n",
    "g.run(\"MATCH (person:Person)-[r:KNOWS]->(d)  RETURN person.name, r, d.name\").to_table()"
   ]
  },
  {
   "cell_type": "code",
   "execution_count": 11,
   "metadata": {},
   "outputs": [
    {
     "data": {
      "text/html": [
       "<table></table>"
      ],
      "text/plain": []
     },
     "execution_count": 11,
     "metadata": {},
     "output_type": "execute_result"
    }
   ],
   "source": [
    "# g.run(\"[r:KNOWS] RETURN r\")\n",
    "q =g.run('MATCH (cloudAtlas {title: \"Cloud Atlas\"})<-[:DIRECTED]-(directors) RETURN directors.name')\n",
    "q.to_table()"
   ]
  },
  {
   "cell_type": "code",
   "execution_count": null,
   "metadata": {},
   "outputs": [],
   "source": [
    "g.run(\"MATCH (p) RETURN p\").to_table()"
   ]
  },
  {
   "cell_type": "code",
   "execution_count": 73,
   "metadata": {},
   "outputs": [
    {
     "data": {
      "text/html": [
       "<table></table>"
      ],
      "text/plain": []
     },
     "execution_count": 73,
     "metadata": {},
     "output_type": "execute_result"
    }
   ],
   "source": [
    "g.run(\"MATCH (p:Person)-[:KNOWS]->(p:Person) RETURN p\").to_table()"
   ]
  },
  {
   "cell_type": "code",
   "execution_count": 65,
   "metadata": {},
   "outputs": [],
   "source": [
    "g.run(\"MATCH (person:Person {name: 'Alice'}) RETURN person.name\").to_table()"
   ]
  },
  {
   "cell_type": "code",
   "execution_count": 19,
   "metadata": {},
   "outputs": [
    {
     "data": {
      "text/html": [
       "<table><tr><th>a.name</th><th>a.born</th></tr><tr><td style=\"text-align:left\">Keanu Reeves</td><td style=\"text-align:right\">1964</td></tr><tr><td style=\"text-align:left\">Carrie-Anne Moss</td><td style=\"text-align:right\">1967</td></tr><tr><td style=\"text-align:left\">Laurence Fishburne</td><td style=\"text-align:right\">1961</td></tr><tr><td style=\"text-align:left\">Hugo Weaving</td><td style=\"text-align:right\">1960</td></tr><tr><td style=\"text-align:left\">Lilly Wachowski</td><td style=\"text-align:right\">1967</td></tr></table>"
      ],
      "text/plain": [
       " a.name             | a.born \n",
       "--------------------|--------\n",
       " Keanu Reeves       |   1964 \n",
       " Carrie-Anne Moss   |   1967 \n",
       " Laurence Fishburne |   1961 \n",
       " Hugo Weaving       |   1960 \n",
       " Lilly Wachowski    |   1967 "
      ]
     },
     "execution_count": 19,
     "metadata": {},
     "output_type": "execute_result"
    }
   ],
   "source": [
    "graph.run(\"MATCH (a:Person) RETURN a.name, a.born LIMIT 5\").to_table()"
   ]
  },
  {
   "cell_type": "code",
   "execution_count": 14,
   "metadata": {},
   "outputs": [
    {
     "ename": "NameError",
     "evalue": "name 'graph' is not defined",
     "output_type": "error",
     "traceback": [
      "\u001b[1;31m---------------------------------------------------------------------------\u001b[0m",
      "\u001b[1;31mNameError\u001b[0m                                 Traceback (most recent call last)",
      "\u001b[1;32m<ipython-input-14-c74a123428dc>\u001b[0m in \u001b[0;36m<module>\u001b[1;34m\u001b[0m\n\u001b[1;32m----> 1\u001b[1;33m \u001b[0mgraph\u001b[0m\u001b[1;33m.\u001b[0m\u001b[0mevaluate\u001b[0m\u001b[1;33m(\u001b[0m\u001b[1;34m\"MATCH (a:Person) RETURN count(a)\"\u001b[0m\u001b[1;33m)\u001b[0m\u001b[1;33m\u001b[0m\u001b[1;33m\u001b[0m\u001b[0m\n\u001b[0m",
      "\u001b[1;31mNameError\u001b[0m: name 'graph' is not defined"
     ]
    }
   ],
   "source": [
    "graph.evaluate(\"MATCH (a:Person) RETURN count(a)\")"
   ]
  },
  {
   "cell_type": "code",
   "execution_count": null,
   "metadata": {},
   "outputs": [],
   "source": []
  }
 ],
 "metadata": {
  "kernelspec": {
   "display_name": "Python 3",
   "language": "python",
   "name": "python3"
  },
  "language_info": {
   "codemirror_mode": {
    "name": "ipython",
    "version": 3
   },
   "file_extension": ".py",
   "mimetype": "text/x-python",
   "name": "python",
   "nbconvert_exporter": "python",
   "pygments_lexer": "ipython3",
   "version": "3.7.4"
  }
 },
 "nbformat": 4,
 "nbformat_minor": 4
}
