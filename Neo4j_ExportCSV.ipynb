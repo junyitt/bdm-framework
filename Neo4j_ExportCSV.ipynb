{
 "cells": [
  {
   "cell_type": "code",
   "execution_count": 214,
   "metadata": {},
   "outputs": [
    {
     "name": "stdout",
     "output_type": "stream",
     "text": [
      "Wall time: 6.42 s\n"
     ]
    }
   ],
   "source": [
    "%%time \n",
    "\n",
    "from py2neo import Graph, Node, Relationship\n",
    "import pandas as pd\n",
    "\n",
    "g = Graph(\"http://localhost:7474/db/data/\", user=\"neo4j\", password=\"test\")\n",
    "\n",
    "# Read the microsoft-malware-prediction training dataset (sample only the first 40000 rows)\n",
    "df = pd.read_csv(\"microsoft-malware-prediction/train.csv\", nrows = 40000)\n",
    "\n",
    "## Use this data if you pull the repo and do not want to download the large dataset from kaggle\n",
    "# df = pd.read_csv(\"train_2000.csv\")\n",
    "\n",
    "df = df.fillna(\"NA\")\n",
    "df[\"OSIdentifier\"] = df[\"Platform\"].map(str) + \"_\" + df[\"OsVer\"].map(str) + \"_\" + df[\"OsBuild\"].map(str)\n",
    "\n",
    "# Create the main machine tables and other useful tables (to model relationships)\n",
    "## create machine table/csv\n",
    "machine_df = df[[\"MachineIdentifier\", \"Processor\", \"Census_ProcessorManufacturerIdentifier\", \"Census_ProcessorModelIdentifier\", \"Census_MDC2FormFactor\", \"HasDetections\", \"Firewall\", \"OSIdentifier\", \"CountryIdentifier\", \"OrganizationIdentifier\"]]\n",
    "machine_df.to_csv(\"machine.csv\", index=False)\n",
    "\n",
    "# create country table/csv\n",
    "country_df = pd.DataFrame()\n",
    "country_df[\"CountryIdentifier\"] = df[\"CountryIdentifier\"].unique()\n",
    "country_df.to_csv(\"country.csv\", index=False)\n",
    "\n",
    "# create organization table/csv\n",
    "org_df = pd.DataFrame()\n",
    "org_df[\"OrganizationIdentifier\"] = df[\"OrganizationIdentifier\"].unique()\n",
    "org_df.to_csv(\"organization.csv\", index=False)\n",
    "\n",
    "# create os table/csv\n",
    "os_df = pd.DataFrame()\n",
    "os_df[\"OSIdentifier\"] = df[\"OSIdentifier\"].unique()\n",
    "os_df = pd.merge(os_df, df[[\"Platform\", \"OsVer\", \"OsBuild\", \"OSIdentifier\"]], left_on = \"OSIdentifier\", right_on = \"OSIdentifier\", how = \"left\").groupby(\"OSIdentifier\").first().reset_index()\n",
    "os_df.to_csv(\"os.csv\", index=False)\n",
    "\n",
    "# create firewall table/csv\n",
    "firewall_df = pd.DataFrame()\n",
    "firewall_df[\"Firewall\"] = df[\"Firewall\"].unique()\n",
    "firewall_df.to_csv(\"firewall.csv\", index=False)\n",
    "\n",
    "# create MalwareDetected table/csv\n",
    "machine_type_df = pd.DataFrame()\n",
    "machine_type_df[\"machine_type\"] = df[\"Census_MDC2FormFactor\"].unique()\n",
    "machine_type_df.to_csv(\"machine_type.csv\", index=False)\n",
    "\n",
    "# create MalwareDetected table/csv\n",
    "malware_df = pd.DataFrame()\n",
    "malware_df[\"HasDetections\"] = df[\"HasDetections\"].unique()\n",
    "malware_df.to_csv(\"malware.csv\", index=False)\n",
    "\n",
    "# output the sampled 40k dataset\n",
    "# df.to_csv(\"train_40000.csv\", index=False)"
   ]
  },
  {
   "cell_type": "code",
   "execution_count": null,
   "metadata": {},
   "outputs": [],
   "source": []
  }
 ],
 "metadata": {
  "kernelspec": {
   "display_name": "Python 3",
   "language": "python",
   "name": "python3"
  },
  "language_info": {
   "codemirror_mode": {
    "name": "ipython",
    "version": 3
   },
   "file_extension": ".py",
   "mimetype": "text/x-python",
   "name": "python",
   "nbconvert_exporter": "python",
   "pygments_lexer": "ipython3",
   "version": "3.7.4"
  }
 },
 "nbformat": 4,
 "nbformat_minor": 4
}
